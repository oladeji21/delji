{
 "cells": [
  {
   "cell_type": "code",
   "execution_count": null,
   "id": "4e99a5ca",
   "metadata": {},
   "outputs": [],
   "source": [
    "for num in range(1, 101):\n",
    "    if num % 2 == 0:\n",
    "        print(num)\n"
   ]
  },
  {
   "cell_type": "code",
   "execution_count": 7,
   "id": "4d0530b8",
   "metadata": {},
   "outputs": [
    {
     "name": "stdout",
     "output_type": "stream",
     "text": [
      "The sum of all numbers between 1 and 100 is: 5050\n"
     ]
    }
   ],
   "source": [
    "numbers = 1\n",
    "total_sum = 0\n",
    "\n",
    "while numbers <= 100:\n",
    "    total_sum += numbers\n",
    "    numbers += 1\n",
    "\n",
    "print(\"The sum of all numbers between 1 and 100 is:\", total_sum)\n"
   ]
  },
  {
   "cell_type": "code",
   "execution_count": null,
   "id": "47819fe8",
   "metadata": {},
   "outputs": [],
   "source": [
    "numbers = [5, 19, 15, 20, 25]\n",
    "total_sum = 0\n",
    "\n",
    "for num in numbers:\n",
    "    total_sum += num\n",
    "\n",
    "average = total_sum / len(numbers)\n",
    "\n",
    "print(\"The average of the numbers is:\", average)\n"
   ]
  },
  {
   "cell_type": "code",
   "execution_count": null,
   "id": "b9508bca",
   "metadata": {},
   "outputs": [],
   "source": [
    "n = int(input(\"Enter a number: \"))\n",
    "number1, number2 = 0, 1\n",
    "print(number1)\n",
    "print(number2)\n",
    "while number2 <= n:\n",
    "    number3 = number1 + number2\n",
    "    print(number3)\n",
    "    number1 = number2\n",
    "    number2 = number3\n"
   ]
  },
  {
   "cell_type": "code",
   "execution_count": 14,
   "id": "9380d420",
   "metadata": {},
   "outputs": [
    {
     "name": "stdout",
     "output_type": "stream",
     "text": [
      "Sorted names using for loop: ['Charlse', 'David', 'deji', 'motunrayo', 'ramota', 'tope', 'yemi']\n"
     ]
    }
   ],
   "source": [
    "names = ['deji', 'ramota', 'Charlse', 'David', 'tope', 'yemi','motunrayo']\n",
    "sorted_names = []\n",
    "for name in sorted(names):\n",
    "    sorted_names.append(name)\n",
    "print(\"Sorted names using for loop:\", sorted_names)\n"
   ]
  },
  {
   "cell_type": "code",
   "execution_count": null,
   "id": "239ff341",
   "metadata": {},
   "outputs": [],
   "source": []
  }
 ],
 "metadata": {
  "kernelspec": {
   "display_name": "Python 3 (ipykernel)",
   "language": "python",
   "name": "python3"
  },
  "language_info": {
   "codemirror_mode": {
    "name": "ipython",
    "version": 3
   },
   "file_extension": ".py",
   "mimetype": "text/x-python",
   "name": "python",
   "nbconvert_exporter": "python",
   "pygments_lexer": "ipython3",
   "version": "3.9.7"
  }
 },
 "nbformat": 4,
 "nbformat_minor": 5
}
